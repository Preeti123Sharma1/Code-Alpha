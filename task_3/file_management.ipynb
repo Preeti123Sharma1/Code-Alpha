{
 "cells": [
  {
   "cell_type": "code",
   "execution_count": 67,
   "metadata": {},
   "outputs": [],
   "source": [
    "import os"
   ]
  },
  {
   "cell_type": "code",
   "execution_count": 68,
   "metadata": {},
   "outputs": [],
   "source": [
    "# Reading the folder's files\n",
    "folderpath = r\"/Users/preetisharma/Downloads/New_File\"\n",
    "os.chdir(folderpath)"
   ]
  },
  {
   "cell_type": "code",
   "execution_count": 69,
   "metadata": {},
   "outputs": [
    {
     "data": {
      "text/plain": [
       "'/Users/preetisharma/Downloads/New_File'"
      ]
     },
     "execution_count": 69,
     "metadata": {},
     "output_type": "execute_result"
    }
   ],
   "source": [
    "os.getcwd()"
   ]
  },
  {
   "cell_type": "code",
   "execution_count": 70,
   "metadata": {},
   "outputs": [
    {
     "data": {
      "text/plain": [
       "['bullet.png',\n",
       " 'eating2 (1).wav',\n",
       " 'bg 2.png',\n",
       " 'bomb.png',\n",
       " 'enemy.png',\n",
       " 'Screen Recording 2023-11-16 at 3.51.27 PM.mov',\n",
       " '.DS_Store',\n",
       " 'batsign.png',\n",
       " 'level 4 Python sophomore (1).pdf',\n",
       " 'filter_0.png',\n",
       " 'Love_Bgm_Ringtone___South_Bgm_Ringtone___Tamil_Ringtone___Telugu_Ringtone___Ringtones_2022(256k) (2).mp3',\n",
       " 'filter_1.png',\n",
       " 'ironman.png',\n",
       " 'level 1 Python sophomore (1).pdf',\n",
       " 'cookie.png',\n",
       " 'filter_3.png',\n",
       " 'level 5 Python sophomore (1).pdf',\n",
       " 'filter_2.png',\n",
       " 'filter_6.png',\n",
       " 'filter_7.jpg',\n",
       " 'natsign.png',\n",
       " 'filter_5.png',\n",
       " 'bomb.ogg',\n",
       " 'filter_4.png',\n",
       " 'background.png',\n",
       " 'filter_9.jpg',\n",
       " 'seo.jpeg',\n",
       " 'filter_8.png',\n",
       " 'level 3 Python sophomore (1).pdf',\n",
       " 'python-for-data-science.png',\n",
       " 'zombie.png',\n",
       " 'Room Rental123124.pptx',\n",
       " 'bg2.jpg',\n",
       " 'img.01.jpg',\n",
       " 'bulletm.ogg',\n",
       " 'top-reasons-why-you-need-seo-infographic.png',\n",
       " 'img.03.jpg',\n",
       " 'img.02.png',\n",
       " 'continent_wise_immigration_pie_chart.png',\n",
       " 'seo crawler.pptx',\n",
       " 'level 6 Python sophomore (1).pdf',\n",
       " 'preeti.pptx',\n",
       " 'img.05.png',\n",
       " 'player.png',\n",
       " 'img.04.png',\n",
       " 'bg.png',\n",
       " 'bullet 2.jpg',\n",
       " 'bg.jpg']"
      ]
     },
     "execution_count": 70,
     "metadata": {},
     "output_type": "execute_result"
    }
   ],
   "source": [
    "# Check the files\n",
    "os.listdir()"
   ]
  },
  {
   "cell_type": "code",
   "execution_count": 71,
   "metadata": {},
   "outputs": [],
   "source": [
    "# Get extension\n",
    "list_extension = []\n",
    "for fl in os.listdir():\n",
    "    extension = fl.split(\".\")[-1]\n",
    "    list_extension.append(extension)"
   ]
  },
  {
   "cell_type": "code",
   "execution_count": 72,
   "metadata": {},
   "outputs": [
    {
     "name": "stdout",
     "output_type": "stream",
     "text": [
      "['png', 'wav', 'png', 'png', 'png', 'mov', 'DS_Store', 'png', 'pdf', 'png', 'mp3', 'png', 'png', 'pdf', 'png', 'png', 'pdf', 'png', 'png', 'jpg', 'png', 'png', 'ogg', 'png', 'png', 'jpg', 'jpeg', 'png', 'pdf', 'png', 'png', 'pptx', 'jpg', 'jpg', 'ogg', 'png', 'jpg', 'png', 'png', 'pptx', 'pdf', 'pptx', 'png', 'png', 'png', 'png', 'jpg', 'jpg']\n"
     ]
    }
   ],
   "source": [
    "print(list_extension)"
   ]
  },
  {
   "cell_type": "code",
   "execution_count": 73,
   "metadata": {},
   "outputs": [],
   "source": [
    "list_extension = list(set(list_extension))"
   ]
  },
  {
   "cell_type": "code",
   "execution_count": 74,
   "metadata": {},
   "outputs": [
    {
     "name": "stdout",
     "output_type": "stream",
     "text": [
      "['wav', 'pdf', 'mp3', 'png', 'ogg', 'jpg', 'mov', 'jpeg', 'pptx', 'DS_Store']\n"
     ]
    }
   ],
   "source": [
    "print(list_extension)"
   ]
  },
  {
   "cell_type": "code",
   "execution_count": 75,
   "metadata": {},
   "outputs": [
    {
     "data": {
      "text/plain": [
       "10"
      ]
     },
     "execution_count": 75,
     "metadata": {},
     "output_type": "execute_result"
    }
   ],
   "source": [
    "len(list_extension)"
   ]
  },
  {
   "cell_type": "code",
   "execution_count": 76,
   "metadata": {},
   "outputs": [],
   "source": [
    "import shutil"
   ]
  },
  {
   "cell_type": "code",
   "execution_count": 79,
   "metadata": {},
   "outputs": [
    {
     "name": "stdout",
     "output_type": "stream",
     "text": [
      "wav,pdf,mp3,png,ogg,jpg,mov,jpeg,pptx,DS_Store,"
     ]
    }
   ],
   "source": [
    "path = os.environ[\"HOME\"] + \"/\" + \"Desktop\"  + \"/\" + \"File_Management\"\n",
    "try:\n",
    "    shutil.rmtree(path)\n",
    "    os.mkdir(path)\n",
    "except:\n",
    "    os.mkdir(path)\n",
    "\n",
    "# How we can transfer the files in specific folder\n",
    "for ex in list_extension:\n",
    "    print(ex,end=\",\")\n",
    "    os.mkdir(path + \"/\" + ex)\n",
    "    for fl in os.listdir():\n",
    "        if ex in fl:\n",
    "            shutil.copy(fl, path + \"/\" + ex)"
   ]
  },
  {
   "cell_type": "code",
   "execution_count": 78,
   "metadata": {},
   "outputs": [
    {
     "name": "stdout",
     "output_type": "stream",
     "text": [
      "/Users/preetisharma/Desktop/File_Management\n"
     ]
    }
   ],
   "source": [
    "print(path)"
   ]
  }
 ],
 "metadata": {
  "kernelspec": {
   "display_name": "base",
   "language": "python",
   "name": "python3"
  },
  "language_info": {
   "codemirror_mode": {
    "name": "ipython",
    "version": 3
   },
   "file_extension": ".py",
   "mimetype": "text/x-python",
   "name": "python",
   "nbconvert_exporter": "python",
   "pygments_lexer": "ipython3",
   "version": "3.9.12"
  }
 },
 "nbformat": 4,
 "nbformat_minor": 2
}
